{
 "cells": [
  {
   "cell_type": "markdown",
   "metadata": {},
   "source": [
    "# Input Processing"
   ]
  },
  {
   "cell_type": "code",
   "execution_count": 1,
   "metadata": {},
   "outputs": [],
   "source": [
    "from IPython.display import display\n",
    "import matplotlib.pyplot as plt\n",
    "%matplotlib inline\n",
    "import numpy as np\n",
    "import scaleogram as scg\n",
    "import os\n",
    "import shutil\n",
    "import posixpath\n",
    "import wfdb\n",
    "from wfdb import processing\n",
    "from PIL import Image\n",
    "import pywt"
   ]
  },
  {
   "cell_type": "markdown",
   "metadata": {
    "pycharm": {
     "name": "#%% md\n"
    }
   },
   "source": [
    "## Read all records "
   ]
  },
  {
   "cell_type": "code",
   "execution_count": 2,
   "metadata": {},
   "outputs": [
    {
     "name": "stdout",
     "output_type": "stream",
     "text": [
      "23 23\n"
     ]
    }
   ],
   "source": [
    "dataset_name = 'afdb'\n",
    "\n",
    "def read_record(data_path, header, offset=0, sample_size_seconds=30, samples_per_second=250):\n",
    "    # Sample configuration\n",
    "    sample_size = sample_size_seconds * samples_per_second\n",
    "    \n",
    "    max_sampto = header.sig_len\n",
    "    sampto = min(max_sampto, offset + sample_size)\n",
    "    if sampto <= offset:\n",
    "        return None, None, None\n",
    "    record = wfdb.rdrecord(data_path + header.record_name, sampfrom=offset, sampto=sampto)\n",
    "    ann = wfdb.rdann(data_path + header.record_name, 'atr', sampfrom=offset, sampto=sampto)\n",
    "    return record, ann, sampto\n",
    "    \n",
    "\n",
    "def read_records(data_path, sample_size_seconds=30, samples_per_second=250, batch_size=100):\n",
    "    samples = []\n",
    "    labels = []\n",
    "    # Sample configuration\n",
    "    sample_size = sample_size_seconds * samples_per_second\n",
    "    \n",
    "    for record_name in wfdb.get_record_list(dataset_name):\n",
    "        header = wfdb.rdheader(data_path + record_name)\n",
    "\n",
    "        if header.sig_len == 0:\n",
    "            continue\n",
    "\n",
    "        offset = 0\n",
    "        samples_count = 0\n",
    "        while True:\n",
    "            max_sampto = header.sig_len\n",
    "            record, ann, offset = read_record(data_path, header, offset, sample_size_seconds, samples_per_second)\n",
    "            if record is None:\n",
    "                break\n",
    "            samples.append(record)\n",
    "            labels.append(ann.aux_note)\n",
    "            samples_count += 1\n",
    "            if batch_size is not None and samples_count == batch_size:\n",
    "                break\n",
    "\n",
    "    return samples, labels\n",
    "\n",
    "\n",
    "samples, labels = read_records('../data/files/', batch_size=1)\n",
    "print(len(samples), len(labels))"
   ]
  },
  {
   "cell_type": "code",
   "execution_count": 3,
   "metadata": {
    "pycharm": {
     "name": "#%%\n"
    }
   },
   "outputs": [
    {
     "name": "stdout",
     "output_type": "stream",
     "text": [
      "[0 0 0 0 0 0 0 0 0 0 1 0 1 1 1 0 0 0 0 0 0 0 0]\n",
      "Positive cases: 4\n",
      "Total cases: 23\n",
      "Positive weight: 17.391304347826086%\n"
     ]
    }
   ],
   "source": [
    "# dict_labels = {'[\\'(N\\']': 0, \n",
    "#                '[\\'(AFIB\\']': 1,\n",
    "#                '[\\'(AFIB\\', \\'(N\\']': 0,\n",
    "#                '[]': 0,\n",
    "#                '[\\'(AFL\\']': 0}\n",
    "labels_formatted = np.array([1 if '(AFIB' in key else 0 for key in labels])\n",
    "print(labels_formatted)\n",
    "\n",
    "tp = labels_formatted.sum()\n",
    "total = len(labels_formatted)\n",
    "print('Positive cases: {}'.format(tp))\n",
    "print('Total cases: {}'.format(total))\n",
    "print('Positive weight: {}%'.format(100 * tp / total))"
   ]
  },
  {
   "cell_type": "code",
   "execution_count": 4,
   "metadata": {},
   "outputs": [
    {
     "data": {
      "text/plain": [
       "{'record_name': '04043',\n",
       " 'n_sig': 2,\n",
       " 'fs': 250,\n",
       " 'counter_freq': None,\n",
       " 'base_counter': None,\n",
       " 'sig_len': 7500,\n",
       " 'base_time': datetime.time(15, 0),\n",
       " 'base_date': None,\n",
       " 'comments': [],\n",
       " 'sig_name': ['ECG1', 'ECG2'],\n",
       " 'p_signal': array([[-0.415, -0.395],\n",
       "        [-0.415, -0.26 ],\n",
       "        [-0.43 , -0.185],\n",
       "        ...,\n",
       "        [ 0.02 , -0.08 ],\n",
       "        [-0.015, -0.115],\n",
       "        [-0.07 , -0.125]]),\n",
       " 'd_signal': None,\n",
       " 'e_p_signal': None,\n",
       " 'e_d_signal': None,\n",
       " 'file_name': ['04043.dat', '04043.dat'],\n",
       " 'fmt': ['212', '212'],\n",
       " 'samps_per_frame': [1, 1],\n",
       " 'skew': [None, None],\n",
       " 'byte_offset': [None, None],\n",
       " 'adc_gain': [200.0, 200.0],\n",
       " 'baseline': [0, 0],\n",
       " 'units': ['mV', 'mV'],\n",
       " 'adc_res': [12, 12],\n",
       " 'adc_zero': [0, 0],\n",
       " 'init_value': [-83, -79],\n",
       " 'checksum': [6241, 53981],\n",
       " 'block_size': [0, 0]}"
      ]
     },
     "metadata": {},
     "output_type": "display_data"
    }
   ],
   "source": [
    "header = wfdb.rdheader('../data/files/04043')\n",
    "record, ann, _ = read_record('../data/files/', header)\n",
    "display(record.__dict__)"
   ]
  },
  {
   "cell_type": "code",
   "execution_count": 5,
   "metadata": {},
   "outputs": [
    {
     "data": {
      "image/png": "[encoded data removed]",
      "text/plain": [
       "<Figure size 432x288 with 1 Axes>"
      ]
     },
     "metadata": {
      "needs_background": "light"
     },
     "output_type": "display_data"
    }
   ],
   "source": [
    "plt.axis('off')\n",
    "plt.plot(np.arange(record.sig_len), record.p_signal.T[0]) # Select by argmax(SQI)\n",
    "fig = plt.show()\n",
    "# 432 × 288"
   ]
  },
  {
   "cell_type": "markdown",
   "metadata": {
    "pycharm": {
     "name": "#%% md\n"
    }
   },
   "source": [
    "## Wavelet transform\n",
    "\n",
    "Wavelet decomposition:"
   ]
  },
  {
   "cell_type": "code",
   "execution_count": 6,
   "metadata": {},
   "outputs": [
    {
     "name": "stdout",
     "output_type": "stream",
     "text": [
      "Default wavelet function used to compute the transform: morl ( Morlet wavelet )\n"
     ]
    },
    {
     "data": {
      "image/png": "[encoded data removed]",
      "text/plain": [
       "<Figure size 720x432 with 2 Axes>"
      ]
     },
     "metadata": {
      "needs_background": "light"
     },
     "output_type": "display_data"
    }
   ],
   "source": [
    "signal = record.p_signal.T[0]\n",
    "\n",
    "# cwtmatr, freqs = pywt.cwt(signal2, widths, 'cmor2.0-1.0')\n",
    "# 'cmor2.0-1.0'\n",
    "\n",
    "# plt.imshow(cwtmatr.real, cmap='PRGn', aspect='auto', \n",
    "#            vmax=abs(cwtmatr).max(), vmin=-abs(cwtmatr).max())\n",
    "# fig = plt.imshow(cwtmatr.real, cmap='PRGn', aspect='auto', \n",
    "#            vmax=abs(cwtmatr).max(), vmin=-abs(cwtmatr).max())\n",
    "\n",
    "\n",
    "# choose default wavelet function \n",
    "scg.set_default_wavelet('morl')\n",
    "\n",
    "signal_length = 7500\n",
    "# range of scales to perform the transform\n",
    "scales = scg.periods2scales(np.arange(1, signal_length + 1))\n",
    "x_values_wvt_arr = range(0, len(signal), 1)\n",
    "\n",
    "# the scaleogram\n",
    "scg.cws(signal, scales=scales, figsize=(10, 6), coi=False, ylabel=\"Period\", xlabel=\"Time\",\n",
    "        title='ECG_ARR: scaleogram with linear period'); \n",
    "\n",
    "print(\"Default wavelet function used to compute the transform:\", scg.get_default_wavelet(), \"(\",\n",
    "      pywt.ContinuousWavelet(scg.get_default_wavelet()).family_name, \")\")"
   ]
  },
  {
   "cell_type": "markdown",
   "metadata": {
    "pycharm": {
     "name": "#%% md\n"
    }
   },
   "source": [
    "## Label mapping"
   ]
  },
  {
   "cell_type": "code",
   "execution_count": 7,
   "metadata": {
    "pycharm": {
     "name": "#%%\n"
    }
   },
   "outputs": [],
   "source": [
    "# wfdb.show_ann_labels()"
   ]
  },
  {
   "cell_type": "markdown",
   "metadata": {
    "pycharm": {
     "name": "#%% md\n"
    }
   },
   "source": [
    "## WFDB record:"
   ]
  },
  {
   "cell_type": "code",
   "execution_count": 8,
   "metadata": {
    "pycharm": {
     "name": "#%%\n"
    }
   },
   "outputs": [
    {
     "ename": "NameError",
     "evalue": "name 'data_path' is not defined",
     "output_type": "error",
     "traceback": [
      "\u001B[0;31m---------------------------------------------------------------------------\u001B[0m",
      "\u001B[0;31mNameError\u001B[0m                                 Traceback (most recent call last)",
      "\u001B[0;32m<ipython-input-8-ef6ff9ffd473>\u001B[0m in \u001B[0;36m<module>\u001B[0;34m\u001B[0m\n\u001B[0;32m----> 1\u001B[0;31m \u001B[0mrecord\u001B[0m \u001B[0;34m=\u001B[0m \u001B[0mwfdb\u001B[0m\u001B[0;34m.\u001B[0m\u001B[0mrdrecord\u001B[0m\u001B[0;34m(\u001B[0m\u001B[0mdata_path\u001B[0m \u001B[0;34m+\u001B[0m \u001B[0mrecord_name\u001B[0m\u001B[0;34m,\u001B[0m \u001B[0msampto\u001B[0m\u001B[0;34m=\u001B[0m\u001B[0msampto\u001B[0m\u001B[0;34m)\u001B[0m\u001B[0;34m\u001B[0m\u001B[0;34m\u001B[0m\u001B[0m\n\u001B[0m\u001B[1;32m      2\u001B[0m \u001B[0mann\u001B[0m \u001B[0;34m=\u001B[0m \u001B[0mwfdb\u001B[0m\u001B[0;34m.\u001B[0m\u001B[0mrdann\u001B[0m\u001B[0;34m(\u001B[0m\u001B[0mdata_path\u001B[0m \u001B[0;34m+\u001B[0m \u001B[0mrecord_name\u001B[0m\u001B[0;34m,\u001B[0m \u001B[0;34m'atr'\u001B[0m\u001B[0;34m,\u001B[0m \u001B[0msampto\u001B[0m\u001B[0;34m=\u001B[0m\u001B[0msampto\u001B[0m\u001B[0;34m)\u001B[0m\u001B[0;34m\u001B[0m\u001B[0;34m\u001B[0m\u001B[0m\n\u001B[1;32m      3\u001B[0m \u001B[0;34m\u001B[0m\u001B[0m\n\u001B[1;32m      4\u001B[0m \u001B[0;31m# Show pairs of (location, label), where location is the number of sample relative to the start\u001B[0m\u001B[0;34m\u001B[0m\u001B[0;34m\u001B[0m\u001B[0;34m\u001B[0m\u001B[0m\n\u001B[1;32m      5\u001B[0m \u001B[0mdisplay\u001B[0m\u001B[0;34m(\u001B[0m\u001B[0mlist\u001B[0m\u001B[0;34m(\u001B[0m\u001B[0mzip\u001B[0m\u001B[0;34m(\u001B[0m\u001B[0mann\u001B[0m\u001B[0;34m.\u001B[0m\u001B[0msample\u001B[0m\u001B[0;34m,\u001B[0m \u001B[0mann\u001B[0m\u001B[0;34m.\u001B[0m\u001B[0msymbol\u001B[0m\u001B[0;34m)\u001B[0m\u001B[0;34m)\u001B[0m\u001B[0;34m)\u001B[0m\u001B[0;34m\u001B[0m\u001B[0;34m\u001B[0m\u001B[0m\n",
      "\u001B[0;31mNameError\u001B[0m: name 'data_path' is not defined"
     ]
    }
   ],
   "source": [
    "record = wfdb.rdrecord(data_path + record_name, sampto=sampto)\n",
    "ann = wfdb.rdann(data_path + record_name, 'atr', sampto=sampto)\n",
    "\n",
    "# Show pairs of (location, label), where location is the number of sample relative to the start\n",
    "display(list(zip(ann.sample, ann.symbol)))\n",
    "display(ann.aux_note)\n",
    "plt.axis('off')\n",
    "\n",
    "# fig = wfdb.plot_wfdb(record=record, title='Record' + record_name + 'from MIT-BIH AF dataset',\n",
    "#                annotation=None,\n",
    "#                plot_sym=True,\n",
    "#                time_units='seconds',\n",
    "#                return_fig=True,\n",
    "#                figsize=(10,15))"
   ]
  },
  {
   "cell_type": "code",
   "execution_count": null,
   "metadata": {},
   "outputs": [],
   "source": [
    "def fig2rgb_array(fig):\n",
    "    fig.canvas.draw()\n",
    "    buf = fig.canvas.tostring_rgb()\n",
    "    ncols, nrows = fig.canvas.get_width_height()\n",
    "    return np.fromstring(buf, dtype=np.uint8).reshape(nrows, ncols, 3)\n",
    "\n",
    "data = fig2rgb_array(fig)\n",
    "# img = Image.fromarray(data, 'RGB')\n",
    "# img.save('test.png')\n",
    "# img.show()\n",
    "\n",
    "# fig.savefig('out.png', bbox_inches='tight', pad_inches=0)"
   ]
  },
  {
   "cell_type": "code",
   "execution_count": null,
   "metadata": {},
   "outputs": [],
   "source": [
    "original = \n",
    "titles = ['Approximation', ' Horizontal detail',\n",
    "          'Vertical detail', 'Diagonal detail']\n",
    "coeffs2 = pywt.dwt2(original, 'bior1.3')\n",
    "LL, (LH, HL, HH) = coeffs2\n",
    "fig = plt.figure(figsize=(12, 3))\n",
    "for i, a in enumerate([LL, LH, HL, HH]):\n",
    "    ax = fig.add_subplot(1, 4, i + 1)\n",
    "    ax.imshow(a, interpolation=\"nearest\", cmap=plt.cm.gray)\n",
    "    ax.set_title(titles[i], fontsize=10)\n",
    "    ax.set_xticks([])\n",
    "    ax.set_yticks([])\n",
    "\n",
    "fig.tight_layout()\n",
    "plt.show()"
   ]
  },
  {
   "cell_type": "code",
   "execution_count": null,
   "metadata": {},
   "outputs": [],
   "source": [
    "# Read a WFDB record and annotation. Plot all channels, and the annotation on top of channel 0.\n",
    "record = wfdb.rdrecord(data_path + record_name, sampto = sampto)\n",
    "annotation = wfdb.rdann(data_path + record_name, 'atr', sampto = sampto)\n",
    "\n",
    "wfdb.plot_wfdb(record=record, annotation=annotation,\n",
    "               title='Record '+ record_name  +' from MIT-BIH Arrhythmia Database',\n",
    "               time_units='seconds')"
   ]
  },
  {
   "cell_type": "markdown",
   "metadata": {
    "collapsed": true
   },
   "source": [
    "## ECG Processing"
   ]
  },
  {
   "cell_type": "code",
   "execution_count": null,
   "metadata": {},
   "outputs": [],
   "source": [
    "# Use the GQRS detection algorithm and correct the peaks\n",
    "\n",
    "def peaks_hr(sig, peak_inds, fs, title, figsize=(20, 10), saveto=None):\n",
    "    \"Plot a signal with its peaks and heart rate\"\n",
    "    # Calculate heart rate\n",
    "    hrs = processing.hr.compute_hr(sig_len=sig.shape[0], qrs_inds=peak_inds, fs=fs)\n",
    "    \n",
    "    N = sig.shape[0]\n",
    "    \n",
    "    fig, ax_left = plt.subplots(figsize=figsize)\n",
    "    ax_right = ax_left.twinx()\n",
    "    \n",
    "    ax_left.plot(sig, color='#3979f0', label='Signal')\n",
    "    ax_left.plot(peak_inds, sig[peak_inds], 'rx', marker='x', \n",
    "                 color='#8b0000', label='Peak', markersize=12)\n",
    "    ax_right.plot(np.arange(N), hrs, label='Heart rate', color='m', linewidth=2)\n",
    "\n",
    "    ax_left.set_title(title)\n",
    "\n",
    "    ax_left.set_xlabel('Time (ms)')\n",
    "    ax_left.set_ylabel('ECG (mV)', color='#3979f0')\n",
    "    ax_right.set_ylabel('Heart rate (bpm)', color='m')\n",
    "    # Make the y-axis label, ticks and tick labels match the line color.\n",
    "    ax_left.tick_params('y', colors='#3979f0')\n",
    "    ax_right.tick_params('y', colors='m')\n",
    "    if saveto is not None:\n",
    "        plt.savefig(saveto, dpi=600)\n",
    "    plt.show()\n",
    "\n",
    "# Load the WFDB record and the physical samples\n",
    "record = wfdb.rdrecord(data_path + record_name, sampfrom=0, sampto=sampto, channels=[0])\n",
    "\n",
    "# Use the GQRS algorithm to detect QRS locations in the first channel\n",
    "qrs_inds = processing.qrs.gqrs_detect(sig=record.p_signal[:,0], fs=record.fs)\n",
    "\n",
    "# Plot results\n",
    "peaks_hr(sig=record.p_signal, peak_inds=qrs_inds, fs=record.fs,\n",
    "         title=\"GQRS peak detection on record 100\")\n",
    "    \n",
    "# Correct the peaks shifting them to local maxima\n",
    "min_bpm = 20\n",
    "max_bpm = 230\n",
    "#min_gap = record.fs * 60 / min_bpm\n",
    "# Use the maximum possible bpm as the search radius\n",
    "search_radius = int(record.fs * 60 / max_bpm)\n",
    "corrected_peak_inds = processing.peaks.correct_peaks(record.p_signal[:,0], \n",
    "                                                     peak_inds=qrs_inds,\n",
    "                                                     search_radius=search_radius, \n",
    "                                                     smooth_window_size=150)\n",
    "\n",
    "# Display results\n",
    "print('Corrected GQRS detected peak indices:', sorted(corrected_peak_inds))\n",
    "peaks_hr(sig=record.p_signal, peak_inds=sorted(corrected_peak_inds), fs=record.fs,\n",
    "         title=\"Corrected GQRS peak detection on record\" + record_name)\n",
    "    "
   ]
  },
  {
   "cell_type": "code",
   "execution_count": null,
   "metadata": {},
   "outputs": [],
   "source": [
    "# Use the XQRS detection algorithm and compare results to reference annotations\n",
    "import wfdb\n",
    "from wfdb import processing\n",
    "sig, fields = wfdb.rdsamp(data_path + record_name, channels=[0], sampto=sampto)\n",
    "ann_ref = wfdb.rdann(data_path + record_name, 'atr', sampto=sampto)\n",
    "\n",
    "# Run QRS detection on signal\n",
    "xqrs = processing.XQRS(sig=sig[:,0], fs=fields['fs'])\n",
    "xqrs.detect()\n",
    "# Alternatively, use the gateway function to get the QRS indices directly\n",
    "# qrs_inds = processing.xqrs_detect(sig=sig[:,0], fs=fields['fs'])\n",
    "\n",
    "# Compare detected QRS complexes to reference annotation.\n",
    "# Note, first sample in 100.atr is not a QRS.\n",
    "comparitor = processing.compare_annotations(ref_sample=ann_ref.sample[1:],\n",
    "                                            test_sample=xqrs.qrs_inds,\n",
    "                                            window_width=int(0.1 * fields['fs']),\n",
    "                                            signal=sig[:,0])\n",
    "\n",
    "# Print and plot the results\n",
    "comparitor.print_summary()\n",
    "comparitor.plot(title='xqrs detected QRS vs reference annotations')"
   ]
  },
  {
   "cell_type": "code",
   "execution_count": null,
   "metadata": {},
   "outputs": [],
   "source": []
  },
  {
   "cell_type": "code",
   "execution_count": null,
   "metadata": {},
   "outputs": [],
   "source": []
  },
  {
   "cell_type": "code",
   "execution_count": null,
   "metadata": {},
   "outputs": [],
   "source": []
  }
 ],
 "metadata": {
  "kernelspec": {
   "display_name": "Python 3",
   "language": "python",
   "name": "python3"
  },
  "language_info": {
   "codemirror_mode": {
    "name": "ipython",
    "version": 3
   },
   "file_extension": ".py",
   "mimetype": "text/x-python",
   "name": "python",
   "nbconvert_exporter": "python",
   "pygments_lexer": "ipython3",
   "version": "3.7.4"
  }
 },
 "nbformat": 4,
 "nbformat_minor": 1
}