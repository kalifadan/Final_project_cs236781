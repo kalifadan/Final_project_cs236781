{
 "cells": [
  {
   "cell_type": "markdown",
   "metadata": {},
   "source": [
    "# Model Processing"
   ]
  },
  {
   "cell_type": "markdown",
   "metadata": {},
   "source": [
    "## Imports & General Settings "
   ]
  },
  {
   "cell_type": "code",
   "execution_count": 1,
   "metadata": {},
   "outputs": [],
   "source": [
    "import unittest\n",
    "import os\n",
    "import sys\n",
    "import time\n",
    "import pathlib\n",
    "\n",
    "import matplotlib.pyplot as plt\n",
    "import sklearn\n",
    "import pandas as pd\n",
    "from sklearn.metrics import classification_report\n",
    "from sklearn.metrics import confusion_matrix\n",
    "from sklearn import metrics\n",
    "import numpy as np\n",
    "import torch\n",
    "import torch.nn.functional as F\n",
    "from torch import nn\n",
    "from torch.utils.data import Dataset, DataLoader\n",
    "from torchvision.transforms import ToPILImage\n",
    "import PIL\n",
    "from tqdm.notebook import trange, tqdm\n",
    "from sklearn.datasets import make_classification\n",
    "from sklearn.linear_model import LogisticRegression\n",
    "from sklearn.model_selection import train_test_split\n",
    "from sklearn.metrics import roc_curve\n",
    "from sklearn.metrics import roc_auc_score\n",
    "from matplotlib import pyplot\n",
    "\n",
    "# Our imports\n",
    "from data import WaveletTransform, AFECGDataset\n",
    "import dsp\n",
    "from model.blocks import ConvNet, BRNN, SoftmaxAttention\n",
    "from model.baseline import Baseline\n",
    "from training import train, test\n",
    "import utils\n",
    "\n",
    "\n",
    "%matplotlib inline\n",
    "%load_ext autoreload\n",
    "%autoreload 2"
   ]
  },
  {
   "cell_type": "code",
   "execution_count": 2,
   "metadata": {},
   "outputs": [
    {
     "name": "stdout",
     "output_type": "stream",
     "text": [
      "Using device: cpu\n"
     ]
    }
   ],
   "source": [
    "test = unittest.TestCase()\n",
    "plt.rcParams.update({'font.size': 12})\n",
    "device = torch.device('cuda' if torch.cuda.is_available() else 'cpu')\n",
    "print('Using device:', device)"
   ]
  },
  {
   "cell_type": "markdown",
   "metadata": {
    "pycharm": {
     "name": "#%% md\n"
    }
   },
   "source": [
    "## Dataset creation"
   ]
  },
  {
   "cell_type": "code",
   "execution_count": 3,
   "metadata": {},
   "outputs": [],
   "source": [
    "dataset_name = 'afdb'\n",
    "dataset = AFECGDataset(dataset_name, '../data/files/')"
   ]
  },
  {
   "cell_type": "code",
   "execution_count": 4,
   "metadata": {},
   "outputs": [
    {
     "name": "stderr",
     "output_type": "stream",
     "text": [
      "23it [00:00, 217.71it/s]"
     ]
    },
    {
     "name": "stdout",
     "output_type": "stream",
     "text": [
      "Preparing 1397 samples\n"
     ]
    },
    {
     "name": "stderr",
     "output_type": "stream",
     "text": [
      "1397it [00:06, 212.71it/s]\n"
     ]
    },
    {
     "name": "stdout",
     "output_type": "stream",
     "text": [
      "Elapsed time: 6569.844961166382 ms\n",
      "Skipped 1397 files which had a backup\n"
     ]
    }
   ],
   "source": [
    "dataset.load()"
   ]
  },
  {
   "cell_type": "code",
   "execution_count": null,
   "metadata": {},
   "outputs": [],
   "source": [
    "data_af, label_af = dataset[0]\n",
    "data_nsr, label_nsr = dataset[1]\n",
    "\n",
    "t = data_nsr[0]\n",
    "utils.show_spectrogram(t)"
   ]
  },
  {
   "cell_type": "code",
   "execution_count": null,
   "metadata": {},
   "outputs": [],
   "source": [
    "images_per_sample = 20\n",
    "total_data_size = len(dataset)\n",
    "print(\"Total data size: \", total_data_size)\n",
    "print(\"Patients with AF: \", dataset.labels.sum().item())"
   ]
  },
  {
   "cell_type": "code",
   "execution_count": null,
   "metadata": {},
   "outputs": [],
   "source": [
    "# data = [dataset[i][0] for i in range(total_data_size)]\n",
    "# labels = [dataset[i][1] for i in range(total_data_size)]"
   ]
  },
  {
   "cell_type": "markdown",
   "metadata": {},
   "source": [
    "### Example of one ECG sample"
   ]
  },
  {
   "cell_type": "code",
   "execution_count": null,
   "metadata": {},
   "outputs": [],
   "source": [
    "# samples, label = data[0], labels[0]\n",
    "# print('P-signal: ', samples)\n",
    "# print('Has AF: ', 'Yes' if label == 1 else 'No')"
   ]
  },
  {
   "cell_type": "code",
   "execution_count": null,
   "metadata": {},
   "outputs": [],
   "source": [
    "# to_wavelet = WaveletTransform(wavelet.Morlet(6), resample=20)\n",
    "# t = to_wavelet(data[0][0])\n",
    "# image_test = (t * 100 * 255).int() # Simple visualization test\n",
    "# transforms.ToPILImage()(image_test).show()"
   ]
  },
  {
   "cell_type": "markdown",
   "metadata": {},
   "source": [
    "##  Wavelet Transform"
   ]
  },
  {
   "cell_type": "code",
   "execution_count": null,
   "metadata": {},
   "outputs": [],
   "source": [
    "# Total data size is 1397\n",
    "# You can choose the data size \n",
    "data_size = len(dataset)"
   ]
  },
  {
   "cell_type": "code",
   "execution_count": null,
   "metadata": {},
   "outputs": [],
   "source": [
    "# x0 = x_train[0][0].float()\n",
    "# encoder_cnn = ConvNet((375, 20))\n",
    "\n",
    "# display(x0.unsqueeze(0).shape)\n",
    "# h = encoder_cnn(x0.unsqueeze(0))\n",
    "# print(h.shape)\n",
    "\n",
    "# test.assertEqual(h.dim(), 2)\n",
    "# test.assertSequenceEqual(h.shape, (1, 50))"
   ]
  },
  {
   "cell_type": "markdown",
   "metadata": {},
   "source": [
    "## BRNN"
   ]
  },
  {
   "cell_type": "code",
   "execution_count": null,
   "metadata": {},
   "outputs": [],
   "source": [
    "display(BRNN(50, 50, images_per_sample))"
   ]
  },
  {
   "cell_type": "markdown",
   "metadata": {},
   "source": [
    "## Attention"
   ]
  },
  {
   "cell_type": "markdown",
   "metadata": {},
   "source": [
    "Notations:\n",
    "\n",
    "* $Y = \\left[ y_1, \\ldots, y_T \\right]$ – the input matrix of size $\\left( N \\times T \\right)$, where $N$ is the number of features in a single output vector of the BRNN\n",
    "\n",
    "* $w_\\mathrm{att}$ – The parameters of the attention model, of size $\\left( N \\times 1 \\right)$, where $N$ is the number of features in a single output vector of the BRNN\n",
    "\n",
    "* $\\alpha$ – The attention weights, given as $\\alpha = \\mathrm{softmax} \\left( w_\\mathrm{att}^T Y \\right)$. This is an element-wise softmax, where the output size of $\\alpha$ is $\\left( 1 \\times T \\right)$\n",
    "\n",
    "* $h_\\mathrm{att}$ – Output of the attention mechanism, given by $h_\\mathrm{att} = Y \\alpha^T$, of size $\\left( N \\times 1 \\right)$, i.e. a vector of $N$ features."
   ]
  },
  {
   "cell_type": "code",
   "execution_count": null,
   "metadata": {},
   "outputs": [],
   "source": [
    "SoftmaxAttention(100)"
   ]
  },
  {
   "cell_type": "markdown",
   "metadata": {},
   "source": [
    "## Baseline model"
   ]
  },
  {
   "cell_type": "code",
   "execution_count": null,
   "metadata": {},
   "outputs": [],
   "source": [
    "model = Baseline()"
   ]
  },
  {
   "cell_type": "markdown",
   "metadata": {},
   "source": [
    "### Training "
   ]
  },
  {
   "cell_type": "code",
   "execution_count": null,
   "metadata": {
    "scrolled": false
   },
   "outputs": [],
   "source": [
    "data1, label1 = dataset[0]\n",
    "data2, label2 = dataset[1]\n",
    "batch_data = torch.cat([data1.unsqueeze(0) * 10, data2.unsqueeze(0) * 10], dim=0)\n",
    "print(batch_data.shape)\n",
    "\n",
    "batch_data = torch.rand((90, 20, 20, 375))\n",
    "output = model(batch_data)"
   ]
  },
  {
   "cell_type": "code",
   "execution_count": null,
   "metadata": {},
   "outputs": [],
   "source": [
    "utils.show_spectrogram(data1[0])\n",
    "utils.show_spectrogram(data1[1])"
   ]
  },
  {
   "cell_type": "code",
   "execution_count": 11,
   "metadata": {
    "scrolled": false
   },
   "outputs": [
    {
     "data": {
      "application/vnd.jupyter.widget-view+json": {
       "model_id": "b4f9924f769c4e258c97a69547b8c21b",
       "version_major": 2,
       "version_minor": 0
      },
      "text/plain": [
       "HBox(children=(FloatProgress(value=0.0, description='Epoch', max=200.0, style=ProgressStyle(description_width=…"
      ]
     },
     "metadata": {},
     "output_type": "display_data"
    },
    {
     "data": {
      "application/vnd.jupyter.widget-view+json": {
       "model_id": "b70b2a51e77c4faf9dea750b32a0a6d9",
       "version_major": 2,
       "version_minor": 0
      },
      "text/plain": [
       "HBox(children=(FloatProgress(value=0.0, description='Iteration', max=13.0, style=ProgressStyle(description_wid…"
      ]
     },
     "metadata": {},
     "output_type": "display_data"
    },
    {
     "name": "stdout",
     "output_type": "stream",
     "text": [
      "Loss:  tensor(0.7649, grad_fn=<NllLossBackward>)\n",
      "Correct: 13\n",
      "Loss:  tensor(0.4910, grad_fn=<NllLossBackward>)\n",
      "Correct: 74\n",
      "Loss:  tensor(0.4689, grad_fn=<NllLossBackward>)\n",
      "Correct: 76\n",
      "Loss:  tensor(0.4134, grad_fn=<NllLossBackward>)\n",
      "Correct: 81\n",
      "Loss:  tensor(0.4357, grad_fn=<NllLossBackward>)\n",
      "Correct: 79\n",
      "Loss:  tensor(0.4802, grad_fn=<NllLossBackward>)\n",
      "Correct: 75\n",
      "Loss:  tensor(0.4252, grad_fn=<NllLossBackward>)\n",
      "Correct: 80\n",
      "Loss:  tensor(0.4471, grad_fn=<NllLossBackward>)\n",
      "Correct: 78\n",
      "Loss:  tensor(0.3929, grad_fn=<NllLossBackward>)\n",
      "Correct: 83\n",
      "Loss:  tensor(0.4360, grad_fn=<NllLossBackward>)\n",
      "Correct: 79\n",
      "Loss:  tensor(0.4708, grad_fn=<NllLossBackward>)\n",
      "Correct: 76\n",
      "Loss:  tensor(0.4589, grad_fn=<NllLossBackward>)\n",
      "Correct: 77\n",
      "Loss:  tensor(0.3922, grad_fn=<NllLossBackward>)\n",
      "Correct: 35\n",
      "\n",
      "Epoch [1/200], Accuracy: 81.04%\n"
     ]
    },
    {
     "data": {
      "application/vnd.jupyter.widget-view+json": {
       "model_id": "03b1b9ad33174276ba4d3c7660489ce8",
       "version_major": 2,
       "version_minor": 0
      },
      "text/plain": [
       "HBox(children=(FloatProgress(value=0.0, description='Iteration', max=13.0, style=ProgressStyle(description_wid…"
      ]
     },
     "metadata": {},
     "output_type": "display_data"
    },
    {
     "name": "stdout",
     "output_type": "stream",
     "text": [
      "Loss:  tensor(0.4672, grad_fn=<NllLossBackward>)\n",
      "Correct: 77\n",
      "Loss:  tensor(0.4912, grad_fn=<NllLossBackward>)\n",
      "Correct: 74\n",
      "Loss:  tensor(0.4712, grad_fn=<NllLossBackward>)\n",
      "Correct: 76\n",
      "Loss:  tensor(0.4178, grad_fn=<NllLossBackward>)\n",
      "Correct: 81\n",
      "Loss:  tensor(0.4380, grad_fn=<NllLossBackward>)\n",
      "Correct: 79\n",
      "Loss:  tensor(0.4831, grad_fn=<NllLossBackward>)\n",
      "Correct: 75\n",
      "Loss:  tensor(0.4301, grad_fn=<NllLossBackward>)\n",
      "Correct: 80\n",
      "Loss:  tensor(0.4492, grad_fn=<NllLossBackward>)\n",
      "Correct: 78\n",
      "Loss:  tensor(0.3984, grad_fn=<NllLossBackward>)\n",
      "Correct: 83\n",
      "Loss:  tensor(0.4375, grad_fn=<NllLossBackward>)\n",
      "Correct: 79\n",
      "Loss:  tensor(0.4736, grad_fn=<NllLossBackward>)\n",
      "Correct: 76\n",
      "Loss:  tensor(0.4621, grad_fn=<NllLossBackward>)\n",
      "Correct: 77\n",
      "Loss:  tensor(0.3922, grad_fn=<NllLossBackward>)\n",
      "Correct: 35\n",
      "\n",
      "Epoch [2/200], Accuracy: 86.76%\n"
     ]
    },
    {
     "data": {
      "application/vnd.jupyter.widget-view+json": {
       "model_id": "b84b8e1203a24a90b3f4705a25fe2387",
       "version_major": 2,
       "version_minor": 0
      },
      "text/plain": [
       "HBox(children=(FloatProgress(value=0.0, description='Iteration', max=13.0, style=ProgressStyle(description_wid…"
      ]
     },
     "metadata": {},
     "output_type": "display_data"
    },
    {
     "name": "stdout",
     "output_type": "stream",
     "text": [
      "Loss:  tensor(0.4746, grad_fn=<NllLossBackward>)\n",
      "Correct: 77\n",
      "Loss:  tensor(0.4918, grad_fn=<NllLossBackward>)\n",
      "Correct: 74\n",
      "Loss:  tensor(0.4739, grad_fn=<NllLossBackward>)\n",
      "Correct: 76\n",
      "Loss:  tensor(0.4205, grad_fn=<NllLossBackward>)\n",
      "Correct: 81\n",
      "Loss:  tensor(0.4394, grad_fn=<NllLossBackward>)\n",
      "Correct: 79\n",
      "Loss:  tensor(0.4843, grad_fn=<NllLossBackward>)\n",
      "Correct: 75\n",
      "Loss:  tensor(0.4326, grad_fn=<NllLossBackward>)\n",
      "Correct: 80\n",
      "Loss:  tensor(0.4501, grad_fn=<NllLossBackward>)\n",
      "Correct: 78\n",
      "Loss:  tensor(0.4004, grad_fn=<NllLossBackward>)\n",
      "Correct: 83\n",
      "Loss:  tensor(0.4383, grad_fn=<NllLossBackward>)\n",
      "Correct: 79\n",
      "Loss:  tensor(0.4745, grad_fn=<NllLossBackward>)\n",
      "Correct: 76\n",
      "Loss:  tensor(0.4634, grad_fn=<NllLossBackward>)\n",
      "Correct: 77\n",
      "Loss:  tensor(0.3922, grad_fn=<NllLossBackward>)\n",
      "Correct: 35\n",
      "\n",
      "Epoch [3/200], Accuracy: 86.76%\n"
     ]
    },
    {
     "data": {
      "application/vnd.jupyter.widget-view+json": {
       "model_id": "fc7453d3678d416ba95084bbc5b0aa2e",
       "version_major": 2,
       "version_minor": 0
      },
      "text/plain": [
       "HBox(children=(FloatProgress(value=0.0, description='Iteration', max=13.0, style=ProgressStyle(description_wid…"
      ]
     },
     "metadata": {},
     "output_type": "display_data"
    },
    {
     "name": "stdout",
     "output_type": "stream",
     "text": [
      "Loss:  tensor(0.4774, grad_fn=<NllLossBackward>)\n",
      "Correct: 77\n",
      "Loss:  tensor(0.4921, grad_fn=<NllLossBackward>)\n",
      "Correct: 74\n",
      "Loss:  tensor(0.4747, grad_fn=<NllLossBackward>)\n",
      "Correct: 76\n",
      "Loss:  tensor(0.4219, grad_fn=<NllLossBackward>)\n",
      "Correct: 81\n",
      "Loss:  tensor(0.4400, grad_fn=<NllLossBackward>)\n",
      "Correct: 79\n",
      "Loss:  tensor(0.4851, grad_fn=<NllLossBackward>)\n",
      "Correct: 75\n",
      "Loss:  tensor(0.4337, grad_fn=<NllLossBackward>)\n",
      "Correct: 80\n",
      "Loss:  tensor(0.4507, grad_fn=<NllLossBackward>)\n",
      "Correct: 78\n",
      "Loss:  tensor(0.4017, grad_fn=<NllLossBackward>)\n",
      "Correct: 83\n",
      "Loss:  tensor(0.4388, grad_fn=<NllLossBackward>)\n",
      "Correct: 79\n",
      "Loss:  tensor(0.4752, grad_fn=<NllLossBackward>)\n",
      "Correct: 76\n",
      "Loss:  tensor(0.4641, grad_fn=<NllLossBackward>)\n",
      "Correct: 77\n",
      "Loss:  tensor(0.3923, grad_fn=<NllLossBackward>)\n",
      "Correct: 35\n",
      "\n",
      "Epoch [4/200], Accuracy: 86.76%\n"
     ]
    },
    {
     "data": {
      "application/vnd.jupyter.widget-view+json": {
       "model_id": "8e3d1c5f84d14cb5ab0ee240f5f09fef",
       "version_major": 2,
       "version_minor": 0
      },
      "text/plain": [
       "HBox(children=(FloatProgress(value=0.0, description='Iteration', max=13.0, style=ProgressStyle(description_wid…"
      ]
     },
     "metadata": {},
     "output_type": "display_data"
    },
    {
     "name": "stdout",
     "output_type": "stream",
     "text": [
      "Loss:  tensor(0.4800, grad_fn=<NllLossBackward>)\n",
      "Correct: 77\n",
      "Loss:  tensor(0.4923, grad_fn=<NllLossBackward>)\n",
      "Correct: 74\n",
      "Loss:  tensor(0.4749, grad_fn=<NllLossBackward>)\n",
      "Correct: 76\n",
      "Loss:  tensor(0.4234, grad_fn=<NllLossBackward>)\n",
      "Correct: 81\n",
      "Loss:  tensor(0.4405, grad_fn=<NllLossBackward>)\n",
      "Correct: 79\n",
      "Loss:  tensor(0.4858, grad_fn=<NllLossBackward>)\n",
      "Correct: 75\n",
      "Loss:  tensor(0.4348, grad_fn=<NllLossBackward>)\n",
      "Correct: 80\n",
      "Loss:  tensor(0.4513, grad_fn=<NllLossBackward>)\n",
      "Correct: 78\n",
      "Loss:  tensor(0.4031, grad_fn=<NllLossBackward>)\n",
      "Correct: 83\n",
      "Loss:  tensor(0.4393, grad_fn=<NllLossBackward>)\n",
      "Correct: 79\n",
      "Loss:  tensor(0.4761, grad_fn=<NllLossBackward>)\n",
      "Correct: 76\n",
      "Loss:  tensor(0.4649, grad_fn=<NllLossBackward>)\n",
      "Correct: 77\n",
      "Loss:  tensor(0.3923, grad_fn=<NllLossBackward>)\n",
      "Correct: 35\n",
      "\n",
      "Epoch [5/200], Accuracy: 86.76%\n"
     ]
    },
    {
     "data": {
      "application/vnd.jupyter.widget-view+json": {
       "model_id": "6cfe57754ad843e98aa86aafa849ff15",
       "version_major": 2,
       "version_minor": 0
      },
      "text/plain": [
       "HBox(children=(FloatProgress(value=0.0, description='Iteration', max=13.0, style=ProgressStyle(description_wid…"
      ]
     },
     "metadata": {},
     "output_type": "display_data"
    },
    {
     "name": "stdout",
     "output_type": "stream",
     "text": [
      "Loss:  tensor(0.4829, grad_fn=<NllLossBackward>)\n",
      "Correct: 77\n",
      "Loss:  tensor(0.4925, grad_fn=<NllLossBackward>)\n",
      "Correct: 74\n",
      "Loss:  tensor(0.4750, grad_fn=<NllLossBackward>)\n",
      "Correct: 76\n",
      "Loss:  tensor(0.4251, grad_fn=<NllLossBackward>)\n",
      "Correct: 81\n",
      "Loss:  tensor(0.4411, grad_fn=<NllLossBackward>)\n",
      "Correct: 79\n",
      "Loss:  tensor(0.4867, grad_fn=<NllLossBackward>)\n",
      "Correct: 75\n",
      "Loss:  tensor(0.4359, grad_fn=<NllLossBackward>)\n",
      "Correct: 80\n",
      "Loss:  tensor(0.4521, grad_fn=<NllLossBackward>)\n",
      "Correct: 78\n",
      "Loss:  tensor(0.4048, grad_fn=<NllLossBackward>)\n",
      "Correct: 83\n",
      "Loss:  tensor(0.4401, grad_fn=<NllLossBackward>)\n",
      "Correct: 79\n",
      "Loss:  tensor(0.4771, grad_fn=<NllLossBackward>)\n",
      "Correct: 76\n",
      "Loss:  tensor(0.4658, grad_fn=<NllLossBackward>)\n",
      "Correct: 77\n",
      "Loss:  tensor(0.3923, grad_fn=<NllLossBackward>)\n",
      "Correct: 35\n",
      "\n",
      "Epoch [6/200], Accuracy: 86.76%\n"
     ]
    },
    {
     "data": {
      "application/vnd.jupyter.widget-view+json": {
       "model_id": "dd51dfb8734540f3843fbb76a3768d48",
       "version_major": 2,
       "version_minor": 0
      },
      "text/plain": [
       "HBox(children=(FloatProgress(value=0.0, description='Iteration', max=13.0, style=ProgressStyle(description_wid…"
      ]
     },
     "metadata": {},
     "output_type": "display_data"
    },
    {
     "name": "stdout",
     "output_type": "stream",
     "text": [
      "Loss:  tensor(0.4862, grad_fn=<NllLossBackward>)\n",
      "Correct: 77\n",
      "Loss:  tensor(0.4929, grad_fn=<NllLossBackward>)\n",
      "Correct: 74\n",
      "Loss:  tensor(0.4751, grad_fn=<NllLossBackward>)\n",
      "Correct: 76\n",
      "Loss:  tensor(0.4271, grad_fn=<NllLossBackward>)\n",
      "Correct: 81\n",
      "Loss:  tensor(0.4421, grad_fn=<NllLossBackward>)\n",
      "Correct: 79\n",
      "Loss:  tensor(0.4878, grad_fn=<NllLossBackward>)\n",
      "Correct: 75\n",
      "Loss:  tensor(0.4374, grad_fn=<NllLossBackward>)\n",
      "Correct: 80\n",
      "Loss:  tensor(0.4532, grad_fn=<NllLossBackward>)\n",
      "Correct: 78\n",
      "Loss:  tensor(0.4066, grad_fn=<NllLossBackward>)\n",
      "Correct: 83\n",
      "Loss:  tensor(0.4411, grad_fn=<NllLossBackward>)\n",
      "Correct: 79\n",
      "Loss:  tensor(0.4782, grad_fn=<NllLossBackward>)\n",
      "Correct: 76\n",
      "Loss:  tensor(0.4669, grad_fn=<NllLossBackward>)\n",
      "Correct: 77\n",
      "Loss:  tensor(0.3924, grad_fn=<NllLossBackward>)\n",
      "Correct: 35\n",
      "\n",
      "Epoch [7/200], Accuracy: 86.76%\n"
     ]
    },
    {
     "data": {
      "application/vnd.jupyter.widget-view+json": {
       "model_id": "d07c6b9cac2a44f6938daa8b08b2436d",
       "version_major": 2,
       "version_minor": 0
      },
      "text/plain": [
       "HBox(children=(FloatProgress(value=0.0, description='Iteration', max=13.0, style=ProgressStyle(description_wid…"
      ]
     },
     "metadata": {},
     "output_type": "display_data"
    },
    {
     "name": "stdout",
     "output_type": "stream",
     "text": [
      "Loss:  tensor(0.4890, grad_fn=<NllLossBackward>)\n",
      "Correct: 77\n",
      "Loss:  tensor(0.4934, grad_fn=<NllLossBackward>)\n",
      "Correct: 74\n",
      "Loss:  tensor(0.4757, grad_fn=<NllLossBackward>)\n",
      "Correct: 76\n",
      "Loss:  tensor(0.4289, grad_fn=<NllLossBackward>)\n",
      "Correct: 81\n",
      "Loss:  tensor(0.4432, grad_fn=<NllLossBackward>)\n",
      "Correct: 79\n",
      "Loss:  tensor(0.4887, grad_fn=<NllLossBackward>)\n",
      "Correct: 75\n",
      "Loss:  tensor(0.4389, grad_fn=<NllLossBackward>)\n",
      "Correct: 80\n",
      "Loss:  tensor(0.4542, grad_fn=<NllLossBackward>)\n",
      "Correct: 78\n",
      "Loss:  tensor(0.4083, grad_fn=<NllLossBackward>)\n",
      "Correct: 83\n",
      "Loss:  tensor(0.4420, grad_fn=<NllLossBackward>)\n",
      "Correct: 79\n",
      "Loss:  tensor(0.4792, grad_fn=<NllLossBackward>)\n",
      "Correct: 76\n",
      "Loss:  tensor(0.4679, grad_fn=<NllLossBackward>)\n",
      "Correct: 77\n",
      "Loss:  tensor(0.3924, grad_fn=<NllLossBackward>)\n",
      "Correct: 35\n",
      "\n",
      "Epoch [8/200], Accuracy: 86.76%\n"
     ]
    },
    {
     "data": {
      "application/vnd.jupyter.widget-view+json": {
       "model_id": "7c3a956f7c8d4f26bf1f3750f46fcb07",
       "version_major": 2,
       "version_minor": 0
      },
      "text/plain": [
       "HBox(children=(FloatProgress(value=0.0, description='Iteration', max=13.0, style=ProgressStyle(description_wid…"
      ]
     },
     "metadata": {},
     "output_type": "display_data"
    },
    {
     "name": "stdout",
     "output_type": "stream",
     "text": [
      "Loss:  tensor(0.4915, grad_fn=<NllLossBackward>)\n",
      "Correct: 77\n",
      "Loss:  tensor(0.4938, grad_fn=<NllLossBackward>)\n",
      "Correct: 74\n",
      "Loss:  tensor(0.4763, grad_fn=<NllLossBackward>)\n",
      "Correct: 76\n",
      "Loss:  tensor(0.4303, grad_fn=<NllLossBackward>)\n",
      "Correct: 81\n",
      "Loss:  tensor(0.4442, grad_fn=<NllLossBackward>)\n",
      "Correct: 79\n",
      "Loss:  tensor(0.4895, grad_fn=<NllLossBackward>)\n",
      "Correct: 75\n",
      "Loss:  tensor(0.4401, grad_fn=<NllLossBackward>)\n",
      "Correct: 80\n",
      "Loss:  tensor(0.4550, grad_fn=<NllLossBackward>)\n",
      "Correct: 78\n",
      "Loss:  tensor(0.4097, grad_fn=<NllLossBackward>)\n",
      "Correct: 83\n",
      "Loss:  tensor(0.4426, grad_fn=<NllLossBackward>)\n",
      "Correct: 79\n",
      "Loss:  tensor(0.4800, grad_fn=<NllLossBackward>)\n",
      "Correct: 76\n",
      "Loss:  tensor(0.4685, grad_fn=<NllLossBackward>)\n",
      "Correct: 77\n",
      "Loss:  tensor(0.3925, grad_fn=<NllLossBackward>)\n",
      "Correct: 35\n",
      "\n",
      "Epoch [9/200], Accuracy: 86.76%\n"
     ]
    },
    {
     "data": {
      "application/vnd.jupyter.widget-view+json": {
       "model_id": "3d906c7d97ec40f39cf2ea75ad864647",
       "version_major": 2,
       "version_minor": 0
      },
      "text/plain": [
       "HBox(children=(FloatProgress(value=0.0, description='Iteration', max=13.0, style=ProgressStyle(description_wid…"
      ]
     },
     "metadata": {},
     "output_type": "display_data"
    },
    {
     "name": "stdout",
     "output_type": "stream",
     "text": [
      "Loss:  tensor(0.4935, grad_fn=<NllLossBackward>)\n",
      "Correct: 77\n",
      "Loss:  tensor(0.4940, grad_fn=<NllLossBackward>)\n",
      "Correct: 74\n",
      "Loss:  tensor(0.4768, grad_fn=<NllLossBackward>)\n",
      "Correct: 76\n",
      "Loss:  tensor(0.4313, grad_fn=<NllLossBackward>)\n",
      "Correct: 81\n",
      "Loss:  tensor(0.4447, grad_fn=<NllLossBackward>)\n",
      "Correct: 79\n",
      "Loss:  tensor(0.4901, grad_fn=<NllLossBackward>)\n",
      "Correct: 75\n",
      "Loss:  tensor(0.4409, grad_fn=<NllLossBackward>)\n",
      "Correct: 80\n",
      "Loss:  tensor(0.4554, grad_fn=<NllLossBackward>)\n",
      "Correct: 78\n",
      "Loss:  tensor(0.4106, grad_fn=<NllLossBackward>)\n",
      "Correct: 83\n",
      "Loss:  tensor(0.4427, grad_fn=<NllLossBackward>)\n",
      "Correct: 79\n",
      "Loss:  tensor(0.4806, grad_fn=<NllLossBackward>)\n",
      "Correct: 76\n",
      "Loss:  tensor(0.4687, grad_fn=<NllLossBackward>)\n",
      "Correct: 77\n",
      "Loss:  tensor(0.3925, grad_fn=<NllLossBackward>)\n",
      "Correct: 35\n",
      "\n",
      "Epoch [10/200], Accuracy: 86.76%\n"
     ]
    },
    {
     "data": {
      "application/vnd.jupyter.widget-view+json": {
       "model_id": "35e49fb6f2994dc3ae87bd25ab1038b0",
       "version_major": 2,
       "version_minor": 0
      },
      "text/plain": [
       "HBox(children=(FloatProgress(value=0.0, description='Iteration', max=13.0, style=ProgressStyle(description_wid…"
      ]
     },
     "metadata": {},
     "output_type": "display_data"
    },
    {
     "name": "stdout",
     "output_type": "stream",
     "text": [
      "Loss:  tensor(0.4954, grad_fn=<NllLossBackward>)\n",
      "Correct: 77\n",
      "Loss:  tensor(0.4941, grad_fn=<NllLossBackward>)\n",
      "Correct: 74\n",
      "Loss:  tensor(0.4772, grad_fn=<NllLossBackward>)\n",
      "Correct: 76\n",
      "Loss:  tensor(0.4320, grad_fn=<NllLossBackward>)\n",
      "Correct: 81\n",
      "Loss:  tensor(0.4450, grad_fn=<NllLossBackward>)\n",
      "Correct: 79\n",
      "Loss:  tensor(0.4905, grad_fn=<NllLossBackward>)\n",
      "Correct: 75\n",
      "Loss:  tensor(0.4413, grad_fn=<NllLossBackward>)\n",
      "Correct: 80\n",
      "Loss:  tensor(0.4556, grad_fn=<NllLossBackward>)\n",
      "Correct: 78\n",
      "Loss:  tensor(0.4114, grad_fn=<NllLossBackward>)\n",
      "Correct: 83\n",
      "Loss:  tensor(0.4426, grad_fn=<NllLossBackward>)\n",
      "Correct: 79\n",
      "Loss:  tensor(0.4811, grad_fn=<NllLossBackward>)\n",
      "Correct: 76\n",
      "Loss:  tensor(0.4687, grad_fn=<NllLossBackward>)\n",
      "Correct: 77\n",
      "Loss:  tensor(0.3926, grad_fn=<NllLossBackward>)\n",
      "Correct: 35\n",
      "\n",
      "Epoch [11/200], Accuracy: 86.76%\n"
     ]
    },
    {
     "data": {
      "application/vnd.jupyter.widget-view+json": {
       "model_id": "3ddbadcfad18428d97efbf8b493214c0",
       "version_major": 2,
       "version_minor": 0
      },
      "text/plain": [
       "HBox(children=(FloatProgress(value=0.0, description='Iteration', max=13.0, style=ProgressStyle(description_wid…"
      ]
     },
     "metadata": {},
     "output_type": "display_data"
    },
    {
     "name": "stdout",
     "output_type": "stream",
     "text": [
      "Loss:  tensor(0.4968, grad_fn=<NllLossBackward>)\n",
      "Correct: 77\n",
      "Loss:  tensor(0.4942, grad_fn=<NllLossBackward>)\n",
      "Correct: 74\n",
      "Loss:  tensor(0.4775, grad_fn=<NllLossBackward>)\n",
      "Correct: 76\n",
      "Loss:  tensor(0.4326, grad_fn=<NllLossBackward>)\n",
      "Correct: 81\n",
      "Loss:  tensor(0.4451, grad_fn=<NllLossBackward>)\n",
      "Correct: 79\n",
      "Loss:  tensor(0.4909, grad_fn=<NllLossBackward>)\n",
      "Correct: 75\n",
      "Loss:  tensor(0.4414, grad_fn=<NllLossBackward>)\n",
      "Correct: 80\n",
      "Loss:  tensor(0.4557, grad_fn=<NllLossBackward>)\n",
      "Correct: 78\n",
      "Loss:  tensor(0.4119, grad_fn=<NllLossBackward>)\n",
      "Correct: 83\n",
      "Loss:  tensor(0.4425, grad_fn=<NllLossBackward>)\n",
      "Correct: 79\n",
      "Loss:  tensor(0.4815, grad_fn=<NllLossBackward>)\n",
      "Correct: 76\n",
      "Loss:  tensor(0.4686, grad_fn=<NllLossBackward>)\n",
      "Correct: 77\n",
      "Loss:  tensor(0.3927, grad_fn=<NllLossBackward>)\n",
      "Correct: 35\n",
      "\n",
      "Epoch [12/200], Accuracy: 86.76%\n"
     ]
    },
    {
     "data": {
      "application/vnd.jupyter.widget-view+json": {
       "model_id": "062b37e0466d42c1ad40b2f90d3269b2",
       "version_major": 2,
       "version_minor": 0
      },
      "text/plain": [
       "HBox(children=(FloatProgress(value=0.0, description='Iteration', max=13.0, style=ProgressStyle(description_wid…"
      ]
     },
     "metadata": {},
     "output_type": "display_data"
    },
    {
     "name": "stdout",
     "output_type": "stream",
     "text": [
      "Loss:  tensor(0.4977, grad_fn=<NllLossBackward>)\n",
      "Correct: 77\n",
      "Loss:  tensor(0.4942, grad_fn=<NllLossBackward>)\n",
      "Correct: 74\n",
      "Loss:  tensor(0.4777, grad_fn=<NllLossBackward>)\n",
      "Correct: 76\n",
      "Loss:  tensor(0.4331, grad_fn=<NllLossBackward>)\n",
      "Correct: 81\n",
      "Loss:  tensor(0.4450, grad_fn=<NllLossBackward>)\n",
      "Correct: 79\n",
      "Loss:  tensor(0.4912, grad_fn=<NllLossBackward>)\n",
      "Correct: 75\n",
      "Loss:  tensor(0.4414, grad_fn=<NllLossBackward>)\n",
      "Correct: 80\n",
      "Loss:  tensor(0.4559, grad_fn=<NllLossBackward>)\n",
      "Correct: 78\n",
      "Loss:  tensor(0.4122, grad_fn=<NllLossBackward>)\n",
      "Correct: 83\n",
      "Loss:  tensor(0.4425, grad_fn=<NllLossBackward>)\n",
      "Correct: 79\n",
      "Loss:  tensor(0.4817, grad_fn=<NllLossBackward>)\n",
      "Correct: 76\n",
      "Loss:  tensor(0.4687, grad_fn=<NllLossBackward>)\n",
      "Correct: 77\n",
      "Loss:  tensor(0.3928, grad_fn=<NllLossBackward>)\n",
      "Correct: 35\n",
      "\n",
      "Epoch [13/200], Accuracy: 86.76%\n"
     ]
    },
    {
     "data": {
      "application/vnd.jupyter.widget-view+json": {
       "model_id": "1261fab289da4b4e853b25688b144381",
       "version_major": 2,
       "version_minor": 0
      },
      "text/plain": [
       "HBox(children=(FloatProgress(value=0.0, description='Iteration', max=13.0, style=ProgressStyle(description_wid…"
      ]
     },
     "metadata": {},
     "output_type": "display_data"
    },
    {
     "name": "stdout",
     "output_type": "stream",
     "text": [
      "Loss:  tensor(0.4980, grad_fn=<NllLossBackward>)\n",
      "Correct: 77\n",
      "Loss:  tensor(0.4943, grad_fn=<NllLossBackward>)\n",
      "Correct: 74\n",
      "Loss:  tensor(0.4780, grad_fn=<NllLossBackward>)\n",
      "Correct: 76\n",
      "Loss:  tensor(0.4335, grad_fn=<NllLossBackward>)\n",
      "Correct: 81\n",
      "Loss:  tensor(0.4449, grad_fn=<NllLossBackward>)\n",
      "Correct: 79\n",
      "Loss:  tensor(0.4914, grad_fn=<NllLossBackward>)\n",
      "Correct: 75\n",
      "Loss:  tensor(0.4414, grad_fn=<NllLossBackward>)\n",
      "Correct: 80\n",
      "Loss:  tensor(0.4560, grad_fn=<NllLossBackward>)\n",
      "Correct: 78\n",
      "Loss:  tensor(0.4125, grad_fn=<NllLossBackward>)\n",
      "Correct: 83\n",
      "Loss:  tensor(0.4425, grad_fn=<NllLossBackward>)\n",
      "Correct: 79\n",
      "Loss:  tensor(0.4818, grad_fn=<NllLossBackward>)\n",
      "Correct: 76\n",
      "Loss:  tensor(0.4688, grad_fn=<NllLossBackward>)\n",
      "Correct: 77\n",
      "Loss:  tensor(0.3928, grad_fn=<NllLossBackward>)\n",
      "Correct: 35\n",
      "\n",
      "Epoch [14/200], Accuracy: 86.76%\n"
     ]
    },
    {
     "data": {
      "application/vnd.jupyter.widget-view+json": {
       "model_id": "472de7864b3542ff8ba1c204141de408",
       "version_major": 2,
       "version_minor": 0
      },
      "text/plain": [
       "HBox(children=(FloatProgress(value=0.0, description='Iteration', max=13.0, style=ProgressStyle(description_wid…"
      ]
     },
     "metadata": {},
     "output_type": "display_data"
    },
    {
     "name": "stdout",
     "output_type": "stream",
     "text": [
      "Loss:  tensor(0.4981, grad_fn=<NllLossBackward>)\n",
      "Correct: 77\n",
      "Loss:  tensor(0.4944, grad_fn=<NllLossBackward>)\n",
      "Correct: 74\n",
      "Loss:  tensor(0.4784, grad_fn=<NllLossBackward>)\n",
      "Correct: 76\n",
      "Loss:  tensor(0.4338, grad_fn=<NllLossBackward>)\n",
      "Correct: 81\n",
      "Loss:  tensor(0.4448, grad_fn=<NllLossBackward>)\n",
      "Correct: 79\n",
      "Loss:  tensor(0.4916, grad_fn=<NllLossBackward>)\n",
      "Correct: 75\n",
      "Loss:  tensor(0.4415, grad_fn=<NllLossBackward>)\n",
      "Correct: 80\n",
      "Loss:  tensor(0.4561, grad_fn=<NllLossBackward>)\n",
      "Correct: 78\n",
      "Loss:  tensor(0.4127, grad_fn=<NllLossBackward>)\n",
      "Correct: 83\n",
      "Loss:  tensor(0.4424, grad_fn=<NllLossBackward>)\n",
      "Correct: 79\n",
      "Loss:  tensor(0.4819, grad_fn=<NllLossBackward>)\n",
      "Correct: 76\n",
      "Loss:  tensor(0.4689, grad_fn=<NllLossBackward>)\n",
      "Correct: 77\n",
      "Loss:  tensor(0.3929, grad_fn=<NllLossBackward>)\n",
      "Correct: 35\n",
      "\n",
      "Epoch [15/200], Accuracy: 86.76%\n"
     ]
    },
    {
     "data": {
      "application/vnd.jupyter.widget-view+json": {
       "model_id": "58c8fc36aa9a4393a66c3677ee7f2786",
       "version_major": 2,
       "version_minor": 0
      },
      "text/plain": [
       "HBox(children=(FloatProgress(value=0.0, description='Iteration', max=13.0, style=ProgressStyle(description_wid…"
      ]
     },
     "metadata": {},
     "output_type": "display_data"
    },
    {
     "name": "stdout",
     "output_type": "stream",
     "text": [
      "Loss:  tensor(0.4977, grad_fn=<NllLossBackward>)\n",
      "Correct: 77\n",
      "Loss:  tensor(0.4945, grad_fn=<NllLossBackward>)\n",
      "Correct: 74\n",
      "Loss:  tensor(0.4788, grad_fn=<NllLossBackward>)\n",
      "Correct: 76\n",
      "Loss:  tensor(0.4340, grad_fn=<NllLossBackward>)\n",
      "Correct: 81\n",
      "Loss:  tensor(0.4447, grad_fn=<NllLossBackward>)\n",
      "Correct: 79\n",
      "Loss:  tensor(0.4917, grad_fn=<NllLossBackward>)\n",
      "Correct: 75\n",
      "Loss:  tensor(0.4415, grad_fn=<NllLossBackward>)\n",
      "Correct: 80\n",
      "Loss:  tensor(0.4562, grad_fn=<NllLossBackward>)\n",
      "Correct: 78\n",
      "Loss:  tensor(0.4128, grad_fn=<NllLossBackward>)\n",
      "Correct: 83\n",
      "Loss:  tensor(0.4424, grad_fn=<NllLossBackward>)\n",
      "Correct: 79\n",
      "Loss:  tensor(0.4821, grad_fn=<NllLossBackward>)\n",
      "Correct: 76\n",
      "Loss:  tensor(0.4688, grad_fn=<NllLossBackward>)\n",
      "Correct: 77\n",
      "Loss:  tensor(0.3930, grad_fn=<NllLossBackward>)\n",
      "Correct: 35\n",
      "\n",
      "Epoch [16/200], Accuracy: 86.76%\n"
     ]
    },
    {
     "data": {
      "application/vnd.jupyter.widget-view+json": {
       "model_id": "8b4aeef6af884927bedbadbd1f31c07c",
       "version_major": 2,
       "version_minor": 0
      },
      "text/plain": [
       "HBox(children=(FloatProgress(value=0.0, description='Iteration', max=13.0, style=ProgressStyle(description_wid…"
      ]
     },
     "metadata": {},
     "output_type": "display_data"
    },
    {
     "name": "stdout",
     "output_type": "stream",
     "text": [
      "Loss:  tensor(0.4976, grad_fn=<NllLossBackward>)\n",
      "Correct: 77\n",
      "Loss:  tensor(0.4945, grad_fn=<NllLossBackward>)\n",
      "Correct: 74\n",
      "Loss:  tensor(0.4792, grad_fn=<NllLossBackward>)\n",
      "Correct: 76\n",
      "Loss:  tensor(0.4342, grad_fn=<NllLossBackward>)\n",
      "Correct: 81\n",
      "Loss:  tensor(0.4447, grad_fn=<NllLossBackward>)\n",
      "Correct: 79\n",
      "Loss:  tensor(0.4919, grad_fn=<NllLossBackward>)\n",
      "Correct: 75\n",
      "Loss:  tensor(0.4415, grad_fn=<NllLossBackward>)\n",
      "Correct: 80\n",
      "Loss:  tensor(0.4562, grad_fn=<NllLossBackward>)\n",
      "Correct: 78\n",
      "Loss:  tensor(0.4130, grad_fn=<NllLossBackward>)\n",
      "Correct: 83\n",
      "Loss:  tensor(0.4423, grad_fn=<NllLossBackward>)\n",
      "Correct: 79\n",
      "Loss:  tensor(0.4822, grad_fn=<NllLossBackward>)\n",
      "Correct: 76\n",
      "Loss:  tensor(0.4689, grad_fn=<NllLossBackward>)\n",
      "Correct: 77\n",
      "Loss:  tensor(0.3931, grad_fn=<NllLossBackward>)\n",
      "Correct: 35\n",
      "\n",
      "Epoch [17/200], Accuracy: 86.76%\n"
     ]
    },
    {
     "data": {
      "application/vnd.jupyter.widget-view+json": {
       "model_id": "e63420bb02f84641b2ceb6d3edbef6e1",
       "version_major": 2,
       "version_minor": 0
      },
      "text/plain": [
       "HBox(children=(FloatProgress(value=0.0, description='Iteration', max=13.0, style=ProgressStyle(description_wid…"
      ]
     },
     "metadata": {},
     "output_type": "display_data"
    },
    {
     "name": "stdout",
     "output_type": "stream",
     "text": [
      "Loss:  tensor(0.4972, grad_fn=<NllLossBackward>)\n",
      "Correct: 77\n",
      "Loss:  tensor(0.4946, grad_fn=<NllLossBackward>)\n",
      "Correct: 74\n",
      "Loss:  tensor(0.4797, grad_fn=<NllLossBackward>)\n",
      "\n",
      "\n"
     ]
    },
    {
     "name": "stderr",
     "output_type": "stream",
     "text": [
      "Traceback (most recent call last):\n",
      "  File \"/Users/miki/opt/miniconda3/envs/cs236781-project/lib/python3.7/multiprocessing/queues.py\", line 242, in _feed\n",
      "    send_bytes(obj)\n",
      "  File \"/Users/miki/opt/miniconda3/envs/cs236781-project/lib/python3.7/multiprocessing/connection.py\", line 200, in send_bytes\n",
      "    self._send_bytes(m[offset:offset + size])\n",
      "  File \"/Users/miki/opt/miniconda3/envs/cs236781-project/lib/python3.7/multiprocessing/connection.py\", line 404, in _send_bytes\n",
      "    self._send(header + buf)\n",
      "  File \"/Users/miki/opt/miniconda3/envs/cs236781-project/lib/python3.7/multiprocessing/connection.py\", line 368, in _send\n",
      "    n = write(self._handle, buf)\n",
      "BrokenPipeError: [Errno 32] Broken pipe\n",
      "Traceback (most recent call last):\n",
      "  File \"/Users/miki/opt/miniconda3/envs/cs236781-project/lib/python3.7/multiprocessing/queues.py\", line 242, in _feed\n",
      "    send_bytes(obj)\n",
      "  File \"/Users/miki/opt/miniconda3/envs/cs236781-project/lib/python3.7/multiprocessing/connection.py\", line 200, in send_bytes\n",
      "    self._send_bytes(m[offset:offset + size])\n",
      "  File \"/Users/miki/opt/miniconda3/envs/cs236781-project/lib/python3.7/multiprocessing/connection.py\", line 404, in _send_bytes\n",
      "    self._send(header + buf)\n",
      "  File \"/Users/miki/opt/miniconda3/envs/cs236781-project/lib/python3.7/multiprocessing/connection.py\", line 368, in _send\n",
      "    n = write(self._handle, buf)\n",
      "BrokenPipeError: [Errno 32] Broken pipe\n"
     ]
    },
    {
     "ename": "KeyboardInterrupt",
     "evalue": "",
     "output_type": "error",
     "traceback": [
      "\u001b[0;31m---------------------------------------------------------------------------\u001b[0m",
      "\u001b[0;31mKeyboardInterrupt\u001b[0m                         Traceback (most recent call last)",
      "\u001b[0;32m<ipython-input-11-b8532dd4090e>\u001b[0m in \u001b[0;36m<module>\u001b[0;34m\u001b[0m\n\u001b[1;32m     15\u001b[0m )\n\u001b[1;32m     16\u001b[0m \u001b[0;34m\u001b[0m\u001b[0m\n\u001b[0;32m---> 17\u001b[0;31m \u001b[0mtrain\u001b[0m\u001b[0;34m(\u001b[0m\u001b[0mmodel\u001b[0m\u001b[0;34m,\u001b[0m \u001b[0mtrain_dataset\u001b[0m\u001b[0;34m,\u001b[0m \u001b[0mconfig\u001b[0m\u001b[0;34m)\u001b[0m\u001b[0;34m\u001b[0m\u001b[0;34m\u001b[0m\u001b[0m\n\u001b[0m",
      "\u001b[0;32m~/PycharmProjects/final_project_cs236781/src/training.py\u001b[0m in \u001b[0;36mtrain\u001b[0;34m(model, dataset, config)\u001b[0m\n\u001b[1;32m     47\u001b[0m             \u001b[0;31m# Backprop and perform optimisation\u001b[0m\u001b[0;34m\u001b[0m\u001b[0;34m\u001b[0m\u001b[0;34m\u001b[0m\u001b[0m\n\u001b[1;32m     48\u001b[0m             \u001b[0mloss_list\u001b[0m\u001b[0;34m.\u001b[0m\u001b[0mappend\u001b[0m\u001b[0;34m(\u001b[0m\u001b[0mloss\u001b[0m\u001b[0;34m.\u001b[0m\u001b[0mitem\u001b[0m\u001b[0;34m(\u001b[0m\u001b[0;34m)\u001b[0m\u001b[0;34m)\u001b[0m\u001b[0;34m\u001b[0m\u001b[0;34m\u001b[0m\u001b[0m\n\u001b[0;32m---> 49\u001b[0;31m             \u001b[0mloss\u001b[0m\u001b[0;34m.\u001b[0m\u001b[0mbackward\u001b[0m\u001b[0;34m(\u001b[0m\u001b[0;34m)\u001b[0m\u001b[0;34m\u001b[0m\u001b[0;34m\u001b[0m\u001b[0m\n\u001b[0m\u001b[1;32m     50\u001b[0m             \u001b[0;31m# print('dx/dy =', autograd.grad(loss, batch_data))\u001b[0m\u001b[0;34m\u001b[0m\u001b[0;34m\u001b[0m\u001b[0;34m\u001b[0m\u001b[0m\n\u001b[1;32m     51\u001b[0m             \u001b[0moptimizer\u001b[0m\u001b[0;34m.\u001b[0m\u001b[0mstep\u001b[0m\u001b[0;34m(\u001b[0m\u001b[0;34m)\u001b[0m\u001b[0;34m\u001b[0m\u001b[0;34m\u001b[0m\u001b[0m\n",
      "\u001b[0;32m~/opt/miniconda3/envs/cs236781-project/lib/python3.7/site-packages/torch/tensor.py\u001b[0m in \u001b[0;36mbackward\u001b[0;34m(self, gradient, retain_graph, create_graph)\u001b[0m\n\u001b[1;32m    148\u001b[0m                 \u001b[0mproducts\u001b[0m\u001b[0;34m.\u001b[0m \u001b[0mDefaults\u001b[0m \u001b[0mto\u001b[0m\u001b[0;31m \u001b[0m\u001b[0;31m`\u001b[0m\u001b[0;31m`\u001b[0m\u001b[0;32mFalse\u001b[0m\u001b[0;31m`\u001b[0m\u001b[0;31m`\u001b[0m\u001b[0;34m.\u001b[0m\u001b[0;34m\u001b[0m\u001b[0;34m\u001b[0m\u001b[0m\n\u001b[1;32m    149\u001b[0m         \"\"\"\n\u001b[0;32m--> 150\u001b[0;31m         \u001b[0mtorch\u001b[0m\u001b[0;34m.\u001b[0m\u001b[0mautograd\u001b[0m\u001b[0;34m.\u001b[0m\u001b[0mbackward\u001b[0m\u001b[0;34m(\u001b[0m\u001b[0mself\u001b[0m\u001b[0;34m,\u001b[0m \u001b[0mgradient\u001b[0m\u001b[0;34m,\u001b[0m \u001b[0mretain_graph\u001b[0m\u001b[0;34m,\u001b[0m \u001b[0mcreate_graph\u001b[0m\u001b[0;34m)\u001b[0m\u001b[0;34m\u001b[0m\u001b[0;34m\u001b[0m\u001b[0m\n\u001b[0m\u001b[1;32m    151\u001b[0m \u001b[0;34m\u001b[0m\u001b[0m\n\u001b[1;32m    152\u001b[0m     \u001b[0;32mdef\u001b[0m \u001b[0mregister_hook\u001b[0m\u001b[0;34m(\u001b[0m\u001b[0mself\u001b[0m\u001b[0;34m,\u001b[0m \u001b[0mhook\u001b[0m\u001b[0;34m)\u001b[0m\u001b[0;34m:\u001b[0m\u001b[0;34m\u001b[0m\u001b[0;34m\u001b[0m\u001b[0m\n",
      "\u001b[0;32m~/opt/miniconda3/envs/cs236781-project/lib/python3.7/site-packages/torch/autograd/__init__.py\u001b[0m in \u001b[0;36mbackward\u001b[0;34m(tensors, grad_tensors, retain_graph, create_graph, grad_variables)\u001b[0m\n\u001b[1;32m     97\u001b[0m     Variable._execution_engine.run_backward(\n\u001b[1;32m     98\u001b[0m         \u001b[0mtensors\u001b[0m\u001b[0;34m,\u001b[0m \u001b[0mgrad_tensors\u001b[0m\u001b[0;34m,\u001b[0m \u001b[0mretain_graph\u001b[0m\u001b[0;34m,\u001b[0m \u001b[0mcreate_graph\u001b[0m\u001b[0;34m,\u001b[0m\u001b[0;34m\u001b[0m\u001b[0;34m\u001b[0m\u001b[0m\n\u001b[0;32m---> 99\u001b[0;31m         allow_unreachable=True)  # allow_unreachable flag\n\u001b[0m\u001b[1;32m    100\u001b[0m \u001b[0;34m\u001b[0m\u001b[0m\n\u001b[1;32m    101\u001b[0m \u001b[0;34m\u001b[0m\u001b[0m\n",
      "\u001b[0;31mKeyboardInterrupt\u001b[0m: "
     ]
    }
   ],
   "source": [
    "heldout = int(len(dataset) * 0.2)\n",
    "train_dataset, test_dataset = torch.utils.data.random_split(dataset, [len(dataset) - heldout, heldout])\n",
    "\n",
    "model = Baseline()\n",
    "config = dict(\n",
    "    num_workers=8,\n",
    "    batch_size=90,\n",
    "    learning_rate=0.005,\n",
    "    weight_decay=0.02,\n",
    "    \n",
    "    num_epochs=200,\n",
    "\n",
    "#     num_epochs=200,\n",
    "    is_notebook=True\n",
    ")\n",
    "\n",
    "train(model, train_dataset, config)"
   ]
  },
  {
   "cell_type": "markdown",
   "metadata": {},
   "source": [
    "## Testing"
   ]
  },
  {
   "cell_type": "code",
   "execution_count": null,
   "metadata": {},
   "outputs": [],
   "source": [
    "y_true = dataset.labels[test_dataset.indices]\n",
    "y_pred, test_acc = test(model, test_dataset, config)\n",
    "print(len(test_dataset))\n",
    "print(dataset.labels[test_dataset.indices].sum().item())"
   ]
  },
  {
   "cell_type": "code",
   "execution_count": null,
   "metadata": {},
   "outputs": [],
   "source": [
    "results = pd.DataFrame(classification_report(y_true, y_pred, zero_division=0, output_dict=True)).transpose()\n",
    "tn, fp, fn, tp = confusion_matrix(y_true, y_pred).ravel()\n",
    "specificity = tn / (tn+fp)\n",
    "fpr, tpr, thresholds = metrics.roc_curve(y_true, y_pred)\n",
    "auc_score = metrics.auc(fpr, tpr)"
   ]
  },
  {
   "cell_type": "code",
   "execution_count": null,
   "metadata": {},
   "outputs": [],
   "source": [
    "display(results)\n",
    "print(\"Specificity:\", specificity)\n",
    "print(\"AUC:\", auc_score)"
   ]
  },
  {
   "cell_type": "code",
   "execution_count": null,
   "metadata": {},
   "outputs": [],
   "source": [
    "lr_auc = roc_auc_score(y_true, y_pred)\n",
    "print('ROC AUC=%.3f' % (lr_auc))\n",
    "lr_fpr, lr_tpr, _ = roc_curve(y_true, y_pred)\n",
    "pyplot.plot(lr_fpr, lr_tpr, marker='.', label='Baseline model')\n",
    "\n",
    "pyplot.xlabel('False Positive Rate')\n",
    "pyplot.ylabel('True Positive Rate')\n",
    "pyplot.legend()\n",
    "pyplot.show()"
   ]
  },
  {
   "cell_type": "code",
   "execution_count": null,
   "metadata": {},
   "outputs": [],
   "source": [
    "from sklearn.metrics import average_precision_score\n",
    "pr_auc = average_precision_score(y_true, y_pred)\n",
    "print(\"PR AUC:\", specificity)"
   ]
  }
 ],
 "metadata": {
  "kernelspec": {
   "display_name": "Python 3",
   "language": "python",
   "name": "python3"
  },
  "language_info": {
   "codemirror_mode": {
    "name": "ipython",
    "version": 3
   },
   "file_extension": ".py",
   "mimetype": "text/x-python",
   "name": "python",
   "nbconvert_exporter": "python",
   "pygments_lexer": "ipython3",
   "version": "3.7.4"
  }
 },
 "nbformat": 4,
 "nbformat_minor": 1
}
